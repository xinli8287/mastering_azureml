{
 "cells": [
  {
   "cell_type": "code",
   "execution_count": 1,
   "metadata": {},
   "outputs": [
    {
     "name": "stdout",
     "output_type": "stream",
     "text": [
      "0.9899494936611665\n"
     ]
    }
   ],
   "source": [
    "from scipy import spatial\n",
    "import pandas as pd\n",
    "\n",
    "df = pd.DataFrame(data={'c1': [1, 2, 2], 'c2': [3, 4, 1]})\n",
    "\n",
    "f1 = df.iloc[0, :]\n",
    "f2 = df.iloc[1, :]\n",
    "\n",
    "# compute the cosine similarity between the first 2 rows\n",
    "cosine_sim = 1 - spatial.distance.cosine(f1, f2)\n",
    "print(cosine_sim)"
   ]
  },
  {
   "cell_type": "code",
   "execution_count": 2,
   "metadata": {},
   "outputs": [
    {
     "data": {
      "text/html": [
       "<div>\n",
       "<style scoped>\n",
       "    .dataframe tbody tr th:only-of-type {\n",
       "        vertical-align: middle;\n",
       "    }\n",
       "\n",
       "    .dataframe tbody tr th {\n",
       "        vertical-align: top;\n",
       "    }\n",
       "\n",
       "    .dataframe thead th {\n",
       "        text-align: right;\n",
       "    }\n",
       "</style>\n",
       "<table border=\"1\" class=\"dataframe\">\n",
       "  <thead>\n",
       "    <tr style=\"text-align: right;\">\n",
       "      <th></th>\n",
       "      <th>user</th>\n",
       "      <th>rating</th>\n",
       "      <th>rating_normalized</th>\n",
       "    </tr>\n",
       "  </thead>\n",
       "  <tbody>\n",
       "    <tr>\n",
       "      <th>0</th>\n",
       "      <td>1</td>\n",
       "      <td>3</td>\n",
       "      <td>-0.707107</td>\n",
       "    </tr>\n",
       "    <tr>\n",
       "      <th>1</th>\n",
       "      <td>1</td>\n",
       "      <td>4</td>\n",
       "      <td>0.707107</td>\n",
       "    </tr>\n",
       "    <tr>\n",
       "      <th>2</th>\n",
       "      <td>2</td>\n",
       "      <td>1</td>\n",
       "      <td>-0.707107</td>\n",
       "    </tr>\n",
       "    <tr>\n",
       "      <th>3</th>\n",
       "      <td>2</td>\n",
       "      <td>2</td>\n",
       "      <td>0.707107</td>\n",
       "    </tr>\n",
       "  </tbody>\n",
       "</table>\n",
       "</div>"
      ],
      "text/plain": [
       "   user  rating  rating_normalized\n",
       "0     1       3          -0.707107\n",
       "1     1       4           0.707107\n",
       "2     2       1          -0.707107\n",
       "3     2       2           0.707107"
      ]
     },
     "execution_count": 2,
     "metadata": {},
     "output_type": "execute_result"
    }
   ],
   "source": [
    "import numpy as np\n",
    "\n",
    "df = pd.DataFrame(data={'user': [1, 1, 2, 2], 'rating': [3, 4, 1, 2]})\n",
    "\n",
    "def normalize_ratings(df, rating_col=\"rating\", user_col=\"user\"):\n",
    "    groups = df.groupby(user_col)[rating_col]\n",
    "    # computes group-wise mean/std and auto broadcasts to individual groups\n",
    "    mean = groups.transform(np.mean)\n",
    "    std = groups.transform(np.std)\n",
    "    return (df[rating_col] - mean) / std\n",
    "\n",
    "df[\"rating_normalized\"] = normalize_ratings(df)\n",
    "df.head()"
   ]
  },
  {
   "cell_type": "code",
   "execution_count": 3,
   "metadata": {},
   "outputs": [
    {
     "data": {
      "text/html": [
       "<div>\n",
       "<style scoped>\n",
       "    .dataframe tbody tr th:only-of-type {\n",
       "        vertical-align: middle;\n",
       "    }\n",
       "\n",
       "    .dataframe tbody tr th {\n",
       "        vertical-align: top;\n",
       "    }\n",
       "\n",
       "    .dataframe thead th {\n",
       "        text-align: right;\n",
       "    }\n",
       "</style>\n",
       "<table border=\"1\" class=\"dataframe\">\n",
       "  <thead>\n",
       "    <tr style=\"text-align: right;\">\n",
       "      <th></th>\n",
       "      <th>user</th>\n",
       "      <th>rating</th>\n",
       "      <th>t</th>\n",
       "      <th>rating_decayed</th>\n",
       "    </tr>\n",
       "  </thead>\n",
       "  <tbody>\n",
       "    <tr>\n",
       "      <th>0</th>\n",
       "      <td>1</td>\n",
       "      <td>10</td>\n",
       "      <td>2019-01-01</td>\n",
       "      <td>10.00</td>\n",
       "    </tr>\n",
       "    <tr>\n",
       "      <th>1</th>\n",
       "      <td>1</td>\n",
       "      <td>10</td>\n",
       "      <td>2019-01-02</td>\n",
       "      <td>5.00</td>\n",
       "    </tr>\n",
       "    <tr>\n",
       "      <th>2</th>\n",
       "      <td>2</td>\n",
       "      <td>10</td>\n",
       "      <td>2019-01-03</td>\n",
       "      <td>2.50</td>\n",
       "    </tr>\n",
       "    <tr>\n",
       "      <th>3</th>\n",
       "      <td>2</td>\n",
       "      <td>10</td>\n",
       "      <td>2019-01-04</td>\n",
       "      <td>1.25</td>\n",
       "    </tr>\n",
       "  </tbody>\n",
       "</table>\n",
       "</div>"
      ],
      "text/plain": [
       "   user  rating          t  rating_decayed\n",
       "0     1      10 2019-01-01           10.00\n",
       "1     1      10 2019-01-02            5.00\n",
       "2     2      10 2019-01-03            2.50\n",
       "3     2      10 2019-01-04            1.25"
      ]
     },
     "execution_count": 3,
     "metadata": {},
     "output_type": "execute_result"
    }
   ],
   "source": [
    "import numpy as np\n",
    "\n",
    "df = pd.DataFrame(data={'user': [1, 1, 2, 2], 'rating': [10, 10, 10, 10], 't': pd.to_datetime([\"2019-01-01\", \"2019-01-02\", \"2019-01-03\", \"2019-01-04\"])})\n",
    "\n",
    "def cumsum_days(s, duration='D'):\n",
    "    return s.diff().astype('timedelta64[%s]' % duration).fillna(0).cumsum().values\n",
    "\n",
    "def decay_ratings(df, decay=1, rating_col=\"rating\", time_col=\"t\"):\n",
    "    weight = np.exp(-cumsum_days(df[time_col]) * decay)\n",
    "    return df[rating_col] * weight\n",
    "\n",
    "half_life_t = 1\n",
    "df[\"rating_decayed\"] = decay_ratings(df, decay=np.log(2)/half_life_t)\n",
    "\n",
    "df.head()"
   ]
  },
  {
   "cell_type": "code",
   "execution_count": null,
   "metadata": {},
   "outputs": [],
   "source": []
  }
 ],
 "metadata": {
  "kernelspec": {
   "display_name": "Python 3",
   "language": "python",
   "name": "python3"
  },
  "language_info": {
   "codemirror_mode": {
    "name": "ipython",
    "version": 3
   },
   "file_extension": ".py",
   "mimetype": "text/x-python",
   "name": "python",
   "nbconvert_exporter": "python",
   "pygments_lexer": "ipython3",
   "version": "3.6.10"
  }
 },
 "nbformat": 4,
 "nbformat_minor": 4
}
